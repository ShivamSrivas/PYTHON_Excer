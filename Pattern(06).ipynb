{
 "cells": [
  {
   "cell_type": "code",
   "execution_count": 30,
   "id": "8aecbff4",
   "metadata": {},
   "outputs": [
    {
     "name": "stdout",
     "output_type": "stream",
     "text": [
      "Enter the number13\n",
      "******* *******\n",
      "******   ******\n",
      "*****     *****\n",
      "****       ****\n",
      "***         ***\n",
      "**           **\n",
      "*             *\n",
      "**           **\n",
      "***         ***\n",
      "****       ****\n",
      "*****     *****\n",
      "******   ******\n",
      "******* *******\n"
     ]
    }
   ],
   "source": [
    "x=int(input(\"Enter the number\"))\n",
    "st=int(x/2)+1\n",
    "sp=1\n",
    "for i in range(x+1)[1::]:\n",
    "    if i<=int(x/2):\n",
    "        for i in range(st):\n",
    "            print(\"*\",end=\"\")\n",
    "        for i in range(sp):\n",
    "            print(\" \",end=\"\")\n",
    "        for i in range(st):\n",
    "            print(\"*\",end=\"\")\n",
    "        print()\n",
    "        sp+=2\n",
    "        st-=1\n",
    "    elif i==int(x/2)+1:\n",
    "        for i in range(1):\n",
    "            print(\"*\",end=\"\")\n",
    "        for i in range(x):\n",
    "            print(\" \",end=\"\")\n",
    "        for i in range(1):\n",
    "            print(\"*\",end=\"\")\n",
    "        print()\n",
    "    else:\n",
    "        sp-=2\n",
    "        st+=1\n",
    "        for i in range(st):\n",
    "            print(\"*\",end=\"\")\n",
    "        for i in range(sp):\n",
    "            print(\" \",end=\"\")\n",
    "        for i in range(st):\n",
    "            print(\"*\",end=\"\")\n",
    "        print()\n",
    "        \n",
    "    \n",
    "            \n",
    "    \n",
    "        "
   ]
  },
  {
   "cell_type": "code",
   "execution_count": null,
   "id": "69a21233",
   "metadata": {},
   "outputs": [],
   "source": []
  },
  {
   "cell_type": "code",
   "execution_count": null,
   "id": "5145f876",
   "metadata": {},
   "outputs": [],
   "source": [
    "7"
   ]
  }
 ],
 "metadata": {
  "kernelspec": {
   "display_name": "Python 3 (ipykernel)",
   "language": "python",
   "name": "python3"
  },
  "language_info": {
   "codemirror_mode": {
    "name": "ipython",
    "version": 3
   },
   "file_extension": ".py",
   "mimetype": "text/x-python",
   "name": "python",
   "nbconvert_exporter": "python",
   "pygments_lexer": "ipython3",
   "version": "3.9.7"
  }
 },
 "nbformat": 4,
 "nbformat_minor": 5
}
