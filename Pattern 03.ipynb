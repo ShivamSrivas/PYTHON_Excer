{
 "cells": [
  {
   "cell_type": "code",
   "execution_count": 12,
   "id": "7b7340ae",
   "metadata": {},
   "outputs": [
    {
     "name": "stdout",
     "output_type": "stream",
     "text": [
      "enter the no.5\n",
      "    *\n",
      "   **\n",
      "  ***\n",
      " ****\n",
      "*****\n"
     ]
    }
   ],
   "source": [
    "o=int(input(\"enter the no.\"))\n",
    "sp=o-1\n",
    "st=1\n",
    "for i in range(o):\n",
    "    for j in range(sp):\n",
    "        print(\" \",end=\"\")\n",
    "    for j in range(st):\n",
    "        print(\"*\",end=\"\")\n",
    "    sp-=1\n",
    "    st+=1\n",
    "    print()\n",
    "    "
   ]
  }
 ],
 "metadata": {
  "kernelspec": {
   "display_name": "Python 3 (ipykernel)",
   "language": "python",
   "name": "python3"
  },
  "language_info": {
   "codemirror_mode": {
    "name": "ipython",
    "version": 3
   },
   "file_extension": ".py",
   "mimetype": "text/x-python",
   "name": "python",
   "nbconvert_exporter": "python",
   "pygments_lexer": "ipython3",
   "version": "3.9.7"
  }
 },
 "nbformat": 4,
 "nbformat_minor": 5
}
